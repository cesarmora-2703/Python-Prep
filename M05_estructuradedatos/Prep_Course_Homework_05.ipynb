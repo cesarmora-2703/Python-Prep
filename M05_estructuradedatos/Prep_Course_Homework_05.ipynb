{
 "cells": [
  {
   "attachments": {},
   "cell_type": "markdown",
   "metadata": {},
   "source": [
    "## Estructuras de Datos"
   ]
  },
  {
   "attachments": {},
   "cell_type": "markdown",
   "metadata": {},
   "source": [
    "1) Crear una lista que contenga nombres de ciudades del mundo que contenga más de 5 elementos e imprimir por pantalla"
   ]
  },
  {
   "cell_type": "code",
   "execution_count": 1,
   "metadata": {},
   "outputs": [
    {
     "name": "stdout",
     "output_type": "stream",
     "text": [
      "['Paris', 'Bogota', 'New York', 'Tokyo', 'Moscu', 'Lima', 'Manila']\n"
     ]
    }
   ],
   "source": [
    "ciudades = ['Paris', 'Bogota', 'New York', 'Tokyo', 'Moscu', 'Lima', 'Manila']\n",
    "print(ciudades)"
   ]
  },
  {
   "attachments": {},
   "cell_type": "markdown",
   "metadata": {},
   "source": [
    "2) Imprimir por pantalla el segundo elemento de la lista"
   ]
  },
  {
   "cell_type": "code",
   "execution_count": 2,
   "metadata": {},
   "outputs": [
    {
     "name": "stdout",
     "output_type": "stream",
     "text": [
      "Bogota\n"
     ]
    }
   ],
   "source": [
    "print(ciudades[1])"
   ]
  },
  {
   "attachments": {},
   "cell_type": "markdown",
   "metadata": {},
   "source": [
    "3) Imprimir por pantalla del segundo al cuarto elemento"
   ]
  },
  {
   "cell_type": "code",
   "execution_count": 7,
   "metadata": {},
   "outputs": [
    {
     "name": "stdout",
     "output_type": "stream",
     "text": [
      "['Bogota', 'New York', 'Tokyo']\n"
     ]
    }
   ],
   "source": [
    "print(ciudades[1:4])"
   ]
  },
  {
   "attachments": {},
   "cell_type": "markdown",
   "metadata": {},
   "source": [
    "4) Visualizar el tipo de dato de la lista"
   ]
  },
  {
   "cell_type": "code",
   "execution_count": 8,
   "metadata": {},
   "outputs": [
    {
     "name": "stdout",
     "output_type": "stream",
     "text": [
      "<class 'list'>\n"
     ]
    }
   ],
   "source": [
    "print(type(ciudades))"
   ]
  },
  {
   "attachments": {},
   "cell_type": "markdown",
   "metadata": {},
   "source": [
    "5) Visualizar todos los elementos de la lista a partir del tercero de manera genérica, es decir, sin explicitar la posición del último elemento"
   ]
  },
  {
   "cell_type": "code",
   "execution_count": 9,
   "metadata": {},
   "outputs": [
    {
     "name": "stdout",
     "output_type": "stream",
     "text": [
      "['New York', 'Tokyo', 'Moscu', 'Lima', 'Manila']\n"
     ]
    }
   ],
   "source": [
    "print(ciudades[2:])"
   ]
  },
  {
   "attachments": {},
   "cell_type": "markdown",
   "metadata": {},
   "source": [
    "6) Visualizar los primeros 4 elementos de la lista"
   ]
  },
  {
   "cell_type": "code",
   "execution_count": 10,
   "metadata": {},
   "outputs": [
    {
     "name": "stdout",
     "output_type": "stream",
     "text": [
      "['Paris', 'Bogota', 'New York', 'Tokyo']\n"
     ]
    }
   ],
   "source": [
    "print(ciudades[:4])"
   ]
  },
  {
   "attachments": {},
   "cell_type": "markdown",
   "metadata": {},
   "source": [
    "7) Agregar una ciudad más a la lista que ya exista y otra que no ¿Arroja algún tipo de error?"
   ]
  },
  {
   "cell_type": "code",
   "execution_count": 13,
   "metadata": {},
   "outputs": [
    {
     "name": "stdout",
     "output_type": "stream",
     "text": [
      "['Paris', 'Bogota', 'New York', 'Tokyo', 'Moscu', 'Lima', 'Manila', 'Bogota', 'Estambul']\n"
     ]
    }
   ],
   "source": [
    "ciudades = ['Paris', 'Bogota', 'New York', 'Tokyo', 'Moscu', 'Lima', 'Manila']\n",
    "ciudades.append('Bogota')\n",
    "ciudades.append('Estambul')\n",
    "#Las listas admiten duplicados\n",
    "print(ciudades)"
   ]
  },
  {
   "attachments": {},
   "cell_type": "markdown",
   "metadata": {},
   "source": [
    "8) Agregar otra ciudad, pero en la cuarta posición"
   ]
  },
  {
   "cell_type": "code",
   "execution_count": 14,
   "metadata": {},
   "outputs": [
    {
     "name": "stdout",
     "output_type": "stream",
     "text": [
      "['Paris', 'Bogota', 'New York', 'Londres', 'Tokyo', 'Moscu', 'Lima', 'Manila', 'Bogota', 'Estambul']\n"
     ]
    }
   ],
   "source": [
    "ciudades.insert(3,'Londres')\n",
    "print(ciudades)"
   ]
  },
  {
   "attachments": {},
   "cell_type": "markdown",
   "metadata": {},
   "source": [
    "9) Concatenar otra lista a la ya creada"
   ]
  },
  {
   "cell_type": "code",
   "execution_count": 16,
   "metadata": {},
   "outputs": [
    {
     "name": "stdout",
     "output_type": "stream",
     "text": [
      "['Paris', 'Bogota', 'New York', 'Tokyo', 'Moscu', 'Lima', 'Manila', 'Los Angeles', 'San Francisco', 'San Diego']\n"
     ]
    }
   ],
   "source": [
    "ciudades = ['Paris', 'Bogota', 'New York', 'Tokyo', 'Moscu', 'Lima', 'Manila']\n",
    "otras_ciudades = ['Los Angeles', 'San Francisco', 'San Diego']\n",
    "ciudades.extend(otras_ciudades)\n",
    "print(ciudades)"
   ]
  },
  {
   "attachments": {},
   "cell_type": "markdown",
   "metadata": {},
   "source": [
    "10) Encontrar el índice de la ciudad que en el punto 7 agregamos duplicada. ¿Se nota alguna particularidad?"
   ]
  },
  {
   "cell_type": "code",
   "execution_count": 19,
   "metadata": {},
   "outputs": [
    {
     "name": "stdout",
     "output_type": "stream",
     "text": [
      "['Paris', 'Bogota', 'New York', 'Tokyo', 'Moscu', 'Lima', 'Manila', 'Bogota', 'Estambul']\n",
      "1\n"
     ]
    }
   ],
   "source": [
    "ciudades = ['Paris', 'Bogota', 'New York', 'Tokyo', 'Moscu', 'Lima', 'Manila']\n",
    "ciudades.append('Bogota')\n",
    "ciudades.append('Estambul')\n",
    "#Las listas admiten duplicados\n",
    "print(ciudades)\n",
    "print(ciudades.index('Bogota'))\n",
    "# Solo encuentra el primer elemento"
   ]
  },
  {
   "attachments": {},
   "cell_type": "markdown",
   "metadata": {},
   "source": [
    "11) ¿Qué pasa si se busca un elemento que no existe?"
   ]
  },
  {
   "cell_type": "code",
   "execution_count": 20,
   "metadata": {},
   "outputs": [
    {
     "ename": "ValueError",
     "evalue": "'Cali' is not in list",
     "output_type": "error",
     "traceback": [
      "\u001b[0;31m---------------------------------------------------------------------------\u001b[0m",
      "\u001b[0;31mValueError\u001b[0m                                Traceback (most recent call last)",
      "Cell \u001b[0;32mIn[20], line 1\u001b[0m\n\u001b[0;32m----> 1\u001b[0m \u001b[39mprint\u001b[39m(ciudades\u001b[39m.\u001b[39;49mindex(\u001b[39m'\u001b[39;49m\u001b[39mCali\u001b[39;49m\u001b[39m'\u001b[39;49m))\n",
      "\u001b[0;31mValueError\u001b[0m: 'Cali' is not in list"
     ]
    }
   ],
   "source": [
    "print(ciudades.index('Cali'))\n",
    "# Error ValueError: 'Cali' is not in list"
   ]
  },
  {
   "attachments": {},
   "cell_type": "markdown",
   "metadata": {},
   "source": [
    "12) Eliminar un elemento de la lista"
   ]
  },
  {
   "cell_type": "code",
   "execution_count": 21,
   "metadata": {},
   "outputs": [
    {
     "name": "stdout",
     "output_type": "stream",
     "text": [
      "['Paris', 'Bogota', 'New York', 'Tokyo', 'Moscu', 'Lima', 'Manila']\n",
      "['Paris', 'New York', 'Tokyo', 'Moscu', 'Lima', 'Manila']\n"
     ]
    }
   ],
   "source": [
    "ciudades = ['Paris', 'Bogota', 'New York', 'Tokyo', 'Moscu', 'Lima', 'Manila']\n",
    "print(ciudades)\n",
    "ciudades.remove('Bogota')\n",
    "print(ciudades)"
   ]
  },
  {
   "attachments": {},
   "cell_type": "markdown",
   "metadata": {},
   "source": [
    "13) ¿Qué pasa si el elemento a eliminar no existe?"
   ]
  },
  {
   "cell_type": "code",
   "execution_count": 22,
   "metadata": {},
   "outputs": [
    {
     "ename": "ValueError",
     "evalue": "list.remove(x): x not in list",
     "output_type": "error",
     "traceback": [
      "\u001b[0;31m---------------------------------------------------------------------------\u001b[0m",
      "\u001b[0;31mValueError\u001b[0m                                Traceback (most recent call last)",
      "Cell \u001b[0;32mIn[22], line 1\u001b[0m\n\u001b[0;32m----> 1\u001b[0m ciudades\u001b[39m.\u001b[39;49mremove(\u001b[39m'\u001b[39;49m\u001b[39mBogota\u001b[39;49m\u001b[39m'\u001b[39;49m)\n\u001b[1;32m      2\u001b[0m \u001b[39mprint\u001b[39m(ciudades)\n",
      "\u001b[0;31mValueError\u001b[0m: list.remove(x): x not in list"
     ]
    }
   ],
   "source": [
    "ciudades.remove('Bogota')\n",
    "print(ciudades)\n",
    " #Error"
   ]
  },
  {
   "attachments": {},
   "cell_type": "markdown",
   "metadata": {},
   "source": [
    "14) Extraer el úlimo elemento de la lista, guardarlo en una variable e imprimirlo"
   ]
  },
  {
   "cell_type": "code",
   "execution_count": 23,
   "metadata": {},
   "outputs": [
    {
     "name": "stdout",
     "output_type": "stream",
     "text": [
      "['Paris', 'Bogota', 'New York', 'Tokyo', 'Moscu', 'Lima', 'Manila']\n",
      "Manila\n"
     ]
    }
   ],
   "source": [
    "ciudades = ['Paris', 'Bogota', 'New York', 'Tokyo', 'Moscu', 'Lima', 'Manila']\n",
    "print(ciudades)\n",
    "mi_ciudad = ciudades.pop()\n",
    "print(mi_ciudad)"
   ]
  },
  {
   "attachments": {},
   "cell_type": "markdown",
   "metadata": {},
   "source": [
    "15) Mostrar la lista multiplicada por 4"
   ]
  },
  {
   "cell_type": "code",
   "execution_count": 24,
   "metadata": {},
   "outputs": [
    {
     "name": "stdout",
     "output_type": "stream",
     "text": [
      "['Paris', 'Bogota', 'New York', 'Tokyo', 'Moscu', 'Lima', 'Paris', 'Bogota', 'New York', 'Tokyo', 'Moscu', 'Lima', 'Paris', 'Bogota', 'New York', 'Tokyo', 'Moscu', 'Lima', 'Paris', 'Bogota', 'New York', 'Tokyo', 'Moscu', 'Lima']\n"
     ]
    }
   ],
   "source": [
    "print(ciudades*4)"
   ]
  },
  {
   "attachments": {},
   "cell_type": "markdown",
   "metadata": {},
   "source": [
    "16) Crear una tupla que contenga los números enteros del 1 al 20"
   ]
  },
  {
   "cell_type": "code",
   "execution_count": 25,
   "metadata": {},
   "outputs": [
    {
     "name": "stdout",
     "output_type": "stream",
     "text": [
      "(1, 2, 3, 4, 5, 6, 7, 8, 9, 10, 11, 12, 13, 14, 15, 16, 17, 18, 19, 20)\n"
     ]
    }
   ],
   "source": [
    "lista = []\n",
    "for i in range(1,21):\n",
    "    lista.append(i)\n",
    "enteros = tuple(lista)\n",
    "print(enteros)\n"
   ]
  },
  {
   "attachments": {},
   "cell_type": "markdown",
   "metadata": {},
   "source": [
    "17) Imprimir desde el índice 10 al 15 de la tupla"
   ]
  },
  {
   "cell_type": "code",
   "execution_count": 26,
   "metadata": {},
   "outputs": [
    {
     "name": "stdout",
     "output_type": "stream",
     "text": [
      "9\n",
      "10\n",
      "11\n",
      "12\n",
      "13\n",
      "14\n"
     ]
    }
   ],
   "source": [
    "for i in range(10,16):\n",
    "    print(enteros.index(i))"
   ]
  },
  {
   "attachments": {},
   "cell_type": "markdown",
   "metadata": {},
   "source": [
    "18) Evaluar si los números 20 y 30 están dentro de la tupla"
   ]
  },
  {
   "cell_type": "code",
   "execution_count": 37,
   "metadata": {},
   "outputs": [
    {
     "name": "stdout",
     "output_type": "stream",
     "text": [
      "(1, 2, 3, 4, 5, 6, 7, 8, 9, 10, 11, 12, 13, 14, 15, 16, 17, 18, 19, 20)\n",
      "Existe: 20\n"
     ]
    }
   ],
   "source": [
    "lista = []\n",
    "for i in range(1,21):\n",
    "    lista.append(i)\n",
    "enteros = tuple(lista)\n",
    "print(enteros)\n",
    "for i in range(len(enteros)):\n",
    "    if (enteros[i] == 20 ):\n",
    "        print(\"Existe:\", enteros[i]) # Imprimir el valor no la posicion"
   ]
  },
  {
   "attachments": {},
   "cell_type": "markdown",
   "metadata": {},
   "source": [
    "19) Con la lista creada en el punto 1, validar la existencia del elemento 'París' y si no existe, agregarlo. Utilizar una variable e informar lo sucedido."
   ]
  },
  {
   "cell_type": "code",
   "execution_count": 47,
   "metadata": {},
   "outputs": [
    {
     "name": "stdout",
     "output_type": "stream",
     "text": [
      "Se agrego París\n",
      "['Paris', 'Bogota', 'New York', 'Tokyo', 'Moscu', 'Lima', 'Manila', 'París']\n"
     ]
    }
   ],
   "source": [
    "ciudades = ['Paris', 'Bogota', 'New York', 'Tokyo', 'Moscu', 'Lima', 'Manila']\n",
    "city = 'París'\n",
    "for ciudad in ciudades:\n",
    "    if ciudad == city:\n",
    "        print(\"Existe París\")\n",
    "        break\n",
    "    else:\n",
    "        ciudades.append(city)\n",
    "        print(\"Se agrego París\") #En este caso París != Paris por eso se agrega\n",
    "        break\n",
    "\n",
    "print(ciudades)"
   ]
  },
  {
   "attachments": {},
   "cell_type": "markdown",
   "metadata": {},
   "source": [
    "20) Mostrar la cantidad de veces que se encuentra un elemento específico dentro de la tupla y de la lista"
   ]
  },
  {
   "cell_type": "code",
   "execution_count": 52,
   "metadata": {},
   "outputs": [
    {
     "name": "stdout",
     "output_type": "stream",
     "text": [
      "París:  2\n",
      "Bogota:  1\n",
      "New York:  1\n",
      "Tokyo:  1\n",
      "Moscu:  1\n",
      "Lima:  1\n",
      "Manila:  1\n",
      "París:  2\n"
     ]
    }
   ],
   "source": [
    "ciudades = ['París', 'Bogota', 'New York', 'Tokyo', 'Moscu', 'Lima', 'Manila', 'París']\n",
    "for city in ciudades:\n",
    "    num = ciudades.count(city)\n",
    "    print(city + ': ' , num)"
   ]
  },
  {
   "attachments": {},
   "cell_type": "markdown",
   "metadata": {},
   "source": [
    "21) Convertir la tupla en una lista"
   ]
  },
  {
   "cell_type": "code",
   "execution_count": 53,
   "metadata": {},
   "outputs": [
    {
     "name": "stdout",
     "output_type": "stream",
     "text": [
      "(1, 2, 3, 4, 5, 6, 7, 8, 9, 10, 11, 12, 13, 14, 15, 16, 17, 18, 19, 20)\n",
      "[1, 2, 3, 4, 5, 6, 7, 8, 9, 10, 11, 12, 13, 14, 15, 16, 17, 18, 19, 20]\n"
     ]
    }
   ],
   "source": [
    "lista = []\n",
    "for i in range(1,21):\n",
    "    lista.append(i)\n",
    "enteros = tuple(lista)\n",
    "print(enteros)\n",
    "lista_enteros = list(enteros)\n",
    "print(lista_enteros)"
   ]
  },
  {
   "attachments": {},
   "cell_type": "markdown",
   "metadata": {},
   "source": [
    "22) Desempaquetar solo los primeros 3 elementos de la tupla en 3 variables"
   ]
  },
  {
   "cell_type": "code",
   "execution_count": 59,
   "metadata": {},
   "outputs": [
    {
     "name": "stdout",
     "output_type": "stream",
     "text": [
      "1 2 3\n",
      "4 5 6 7 8 9 10 11 12 13 14 15 16 17 18 19 20\n"
     ]
    }
   ],
   "source": [
    "(uno, dos, tres, *otros) = enteros\n",
    "print(uno, dos, tres)\n",
    "print(*otros)"
   ]
  },
  {
   "attachments": {},
   "cell_type": "markdown",
   "metadata": {},
   "source": [
    "23) Crear un diccionario utilizando la lista crada en el punto 1, asignandole la clave \"ciudad\". Agregar tambien otras claves, como puede ser \"Pais\" y \"Continente\"."
   ]
  },
  {
   "cell_type": "code",
   "execution_count": 65,
   "metadata": {},
   "outputs": [
    {
     "name": "stdout",
     "output_type": "stream",
     "text": [
      "{'Ciudad': ['París', 'Bogota', 'New York', 'Tokyo', 'Moscu', 'Lima', 'Quito'], 'Pais': ['Francia', 'Colombia', 'USA', 'Japón', 'Rusia', 'Peru', 'Ecuador'], 'Continente': ['Europa', 'America', 'America', 'Asia', 'Asia', 'America', 'America']}\n"
     ]
    }
   ],
   "source": [
    "ciudades = ['París', 'Bogota', 'New York', 'Tokyo', 'Moscu', 'Lima', 'Quito']\n",
    "paises = ['Francia', 'Colombia', 'USA', 'Japón', 'Rusia', 'Peru', 'Ecuador']\n",
    "continentes = ['Europa', 'America', 'America', 'Asia', 'Asia', 'America', 'America']\n",
    "dictionary = {\"Ciudad\": ciudades,\n",
    "              \"Pais\": paises,\n",
    "              \"Continente\": continentes}\n",
    "print(dictionary)"
   ]
  },
  {
   "attachments": {},
   "cell_type": "markdown",
   "metadata": {},
   "source": [
    "24) Imprimir las claves del diccionario"
   ]
  },
  {
   "cell_type": "code",
   "execution_count": 66,
   "metadata": {},
   "outputs": [
    {
     "name": "stdout",
     "output_type": "stream",
     "text": [
      "dict_keys(['Ciudad', 'Pais', 'Continente'])\n"
     ]
    }
   ],
   "source": [
    "print(dictionary.keys())"
   ]
  },
  {
   "attachments": {},
   "cell_type": "markdown",
   "metadata": {},
   "source": [
    "25) Imprimir las ciudades a través de su clave"
   ]
  },
  {
   "cell_type": "code",
   "execution_count": 69,
   "metadata": {},
   "outputs": [
    {
     "name": "stdout",
     "output_type": "stream",
     "text": [
      "['París', 'Bogota', 'New York', 'Tokyo', 'Moscu', 'Lima', 'Quito']\n",
      "['Francia', 'Colombia', 'USA', 'Japón', 'Rusia', 'Peru', 'Ecuador']\n",
      "['Europa', 'America', 'America', 'Asia', 'Asia', 'America', 'America']\n"
     ]
    }
   ],
   "source": [
    "print(dictionary['Ciudad'])\n",
    "print(dictionary['Pais'])\n",
    "print(dictionary['Continente'])"
   ]
  }
 ],
 "metadata": {
  "interpreter": {
   "hash": "c85384e4cb51c8b72350f3a8712cc8351fdc3955e32a27f9b60c6242ab125f01"
  },
  "kernelspec": {
   "display_name": "Python 3 (ipykernel)",
   "language": "python",
   "name": "python3"
  },
  "language_info": {
   "codemirror_mode": {
    "name": "ipython",
    "version": 3
   },
   "file_extension": ".py",
   "mimetype": "text/x-python",
   "name": "python",
   "nbconvert_exporter": "python",
   "pygments_lexer": "ipython3",
   "version": "3.9.7"
  }
 },
 "nbformat": 4,
 "nbformat_minor": 4
}
