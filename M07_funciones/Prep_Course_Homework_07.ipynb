{
 "cells": [
  {
   "attachments": {},
   "cell_type": "markdown",
   "metadata": {},
   "source": [
    "## Funciones"
   ]
  },
  {
   "attachments": {},
   "cell_type": "markdown",
   "metadata": {},
   "source": [
    "1) Crear una función que reciba un número como parámetro y devuelva True si es primo y False si no lo es"
   ]
  },
  {
   "cell_type": "code",
   "execution_count": 2,
   "metadata": {},
   "outputs": [
    {
     "name": "stdout",
     "output_type": "stream",
     "text": [
      "2\n",
      "3\n",
      "5\n",
      "7\n",
      "11\n",
      "13\n",
      "17\n",
      "19\n",
      "23\n",
      "29\n"
     ]
    }
   ],
   "source": [
    "def es_primo(num):\n",
    "    if num < 2:\n",
    "        return False\n",
    "    for i in range(2,num):\n",
    "        if num%i == 0:\n",
    "            return False\n",
    "    return True\n",
    "\n",
    "for num in range(0, 31):\n",
    "    if(es_primo(num)):\n",
    "        print(num)"
   ]
  },
  {
   "attachments": {},
   "cell_type": "markdown",
   "metadata": {},
   "source": [
    "2) Utilizando la función del punto 1, realizar otra función que reciba de parámetro una lista de números y devuelva sólo aquellos que son primos en otra lista"
   ]
  },
  {
   "cell_type": "code",
   "execution_count": 5,
   "metadata": {},
   "outputs": [
    {
     "name": "stdout",
     "output_type": "stream",
     "text": [
      "[17, 2, 3, 11, 13]\n"
     ]
    }
   ],
   "source": [
    "def es_primo(num):\n",
    "    if num < 2:\n",
    "        return False\n",
    "    for i in range(2,num):\n",
    "        if num%i == 0:\n",
    "            return False\n",
    "    return True\n",
    "\n",
    "lista = [17,34,2,77,91,3,11,456,123,13,21]\n",
    "primos = [n for n in lista if es_primo(n)]\n",
    "print(primos)"
   ]
  },
  {
   "attachments": {},
   "cell_type": "markdown",
   "metadata": {},
   "source": [
    "3) Crear una función que al recibir una lista de números, devuelva el que más se repite y cuántas veces lo hace. Si hay más de un \"más repetido\", que devuelva cualquiera"
   ]
  },
  {
   "cell_type": "code",
   "execution_count": 16,
   "metadata": {},
   "outputs": [
    {
     "name": "stdout",
     "output_type": "stream",
     "text": [
      "El mas repetido es: 12  esta  4  veces \n"
     ]
    }
   ],
   "source": [
    "def count_times(list):\n",
    "    times = 0\n",
    "    which_one = 0\n",
    "    checked_items = []\n",
    "    for item in list:\n",
    "        if item in checked_items:\n",
    "            continue\n",
    "        timesItem = list.count(item)\n",
    "        if timesItem > times:\n",
    "            times = timesItem\n",
    "            which_one = item\n",
    "        checked_items.append(item)\n",
    "    \n",
    "    return which_one, times\n",
    "\n",
    "lista = [1,6,7,90,12,3,56,7,8,11,7,12,3,100,12,45,65,12]\n",
    "item,times =count_times(lista)\n",
    "print('El mas repetido es:', item,\" esta \", times, \" veces \")"
   ]
  },
  {
   "attachments": {},
   "cell_type": "markdown",
   "metadata": {},
   "source": [
    "4) Crear una función que convierta entre grados Celsius, Farenheit y Kelvin<br>\n",
    "Fórmula 1\t: (°C × 9/5) + 32 = °F<br>\n",
    "Fórmula 2\t: °C + 273.15 = °K<br>\n",
    "Debe recibir 3 parámetros: el valor, la medida de orígen y la medida de destino\n"
   ]
  },
  {
   "cell_type": "code",
   "execution_count": 2,
   "metadata": {},
   "outputs": [
    {
     "name": "stdout",
     "output_type": "stream",
     "text": [
      "Temperure scale converter:\n",
      "F -> K  : 32.0 -> 273.15\n"
     ]
    }
   ],
   "source": [
    "def convert_to_Centigrade(valor, entrada):\n",
    "    '''\n",
    "    Centigrades to kelvin or Farenheit\n",
    "    '''\n",
    "    if entrada == 'K':\n",
    "        return  valor - 273.15\n",
    "    elif entrada == 'F':\n",
    "        return (5*(valor-32))/9 \n",
    "\n",
    " \n",
    "def convert_to_Farenheit(valor, entrada):\n",
    "    '''\n",
    "    Farenheit to kelvin or Centigrades\n",
    "    '''\n",
    "    if entrada == 'K':\n",
    "        return  convert_to_Farenheit(convert_to_Centigrade(valor, 'K'), 'C')\n",
    "    elif entrada == 'C':\n",
    "        return (9/5)*valor + 32\n",
    "        \n",
    "def convert_to_Kelvin(valor, entrada):\n",
    "    '''\n",
    "    Centigrades to kelvin or Farenheit\n",
    "    '''\n",
    "    if entrada == 'F':\n",
    "        return convert_to_Kelvin(convert_to_Centigrade(valor, 'F'), 'C')\n",
    "    elif entrada == 'C':\n",
    "        return valor + 273.15\n",
    "\n",
    "def convert_temp_to(valor, entrada, salida ):\n",
    "    '''\n",
    "    Converts temperature from C, K or F to other scales\n",
    "    '''\n",
    "    if entrada == 'C':\n",
    "        if salida == 'F':\n",
    "            return convert_to_Farenheit(valor, entrada)\n",
    "        elif salida == 'K':\n",
    "            return convert_to_Kelvin(valor, entrada)\n",
    "        elif salida == 'C':\n",
    "            return valor\n",
    "\n",
    "    if entrada == 'F':\n",
    "        if salida == 'C':\n",
    "            return convert_to_Centigrade(valor, entrada)\n",
    "        elif salida == 'K':\n",
    "            return convert_to_Kelvin(valor, entrada)\n",
    "        elif salida == 'F':\n",
    "            return valor\n",
    "\n",
    "    if entrada == 'K':\n",
    "        if salida == 'C':\n",
    "            return convert_to_Centigrade(valor, entrada)\n",
    "        elif salida == 'F':\n",
    "            return convert_to_Farenheit(valor, entrada)\n",
    "        elif salida == 'K':\n",
    "            return  valor\n",
    "        \n",
    "print(\"Temperure scale converter:\")\n",
    "desde = input('From C, F or K:').upper()\n",
    "hacia = input('To C,F or K.').upper()\n",
    "temp = float(input(\"valor to convert:\"))\n",
    "\n",
    "print(f'{desde} -> {hacia}  : {temp} ->', str(round(convert_temp_to(temp, desde, hacia),2)))"
   ]
  },
  {
   "attachments": {},
   "cell_type": "markdown",
   "metadata": {},
   "source": [
    "5) Iterando una lista con los tres valores posibles de temperatura que recibe la función del punto 5, hacer un print para cada combinación de los mismos:"
   ]
  },
  {
   "cell_type": "code",
   "execution_count": 58,
   "metadata": {},
   "outputs": [
    {
     "name": "stdout",
     "output_type": "stream",
     "text": [
      "1 grado C a C : 1\n",
      "1 grado C a K : 274.15\n",
      "1 grado C a F : 33.8\n",
      "1 grado K a C : -272.15\n",
      "1 grado K a K : 1\n",
      "1 grado K a F : -457.86999999999995\n",
      "1 grado F a C : -17.22222222222222\n",
      "1 grado F a K : 255.92777777777775\n",
      "1 grado F a F : 1\n"
     ]
    }
   ],
   "source": [
    "metricas = ['C','K','F']\n",
    "for i in range(0,3):\n",
    "    for j in range(0,3):\n",
    "        print('1 grado', metricas[i], 'a', metricas[j],':', convert_temp_to(1, metricas[i], metricas[j]))\n",
    "\n"
   ]
  },
  {
   "attachments": {},
   "cell_type": "markdown",
   "metadata": {},
   "source": [
    "6) Armar una función que devuelva el factorial de un número. Tener en cuenta que el usuario puede equivocarse y enviar de parámetro un número no entero o negativo"
   ]
  },
  {
   "cell_type": "code",
   "execution_count": 14,
   "metadata": {},
   "outputs": [
    {
     "name": "stdout",
     "output_type": "stream",
     "text": [
      "6\n",
      "El mumero debe ser un entero positivo\n",
      "El numero debe ser un entero\n",
      "El numero debe ser un entero\n"
     ]
    }
   ],
   "source": [
    "def factorial (number):\n",
    "    '''\n",
    "    Calcula el factorial de un numero entero positivo\n",
    "    '''\n",
    "    if type(number) != int:\n",
    "        return 'El numero debe ser un entero'\n",
    "    if number < 0:\n",
    "        return 'El mumero debe ser un entero positivo'\n",
    "    if number >1:\n",
    "        number = number * factorial(number -1)\n",
    "    \n",
    "    return number\n",
    "    \n",
    "\n",
    "print(factorial(3))\n",
    "print(factorial(-2))\n",
    "print(factorial(1.23))\n",
    "print(factorial('6'))"
   ]
  }
 ],
 "metadata": {
  "interpreter": {
   "hash": "c85384e4cb51c8b72350f3a8712cc8351fdc3955e32a27f9b60c6242ab125f01"
  },
  "kernelspec": {
   "display_name": "Python 3 (ipykernel)",
   "language": "python",
   "name": "python3"
  },
  "language_info": {
   "codemirror_mode": {
    "name": "ipython",
    "version": 3
   },
   "file_extension": ".py",
   "mimetype": "text/x-python",
   "name": "python",
   "nbconvert_exporter": "python",
   "pygments_lexer": "ipython3",
   "version": "3.9.6"
  }
 },
 "nbformat": 4,
 "nbformat_minor": 4
}
