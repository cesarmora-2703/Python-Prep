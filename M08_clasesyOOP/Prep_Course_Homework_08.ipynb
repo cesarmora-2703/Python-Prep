{
 "cells": [
  {
   "attachments": {},
   "cell_type": "markdown",
   "metadata": {},
   "source": [
    "## Clases y Programación Orientada a Objetos"
   ]
  },
  {
   "attachments": {},
   "cell_type": "markdown",
   "metadata": {},
   "source": [
    "1) Crear la clase vehículo que contenga los atributos:<br>\n",
    "Color<br>\n",
    "Si es moto, auto, camioneta ó camión<br>\n",
    "Cilindrada del motor"
   ]
  },
  {
   "cell_type": "code",
   "execution_count": 1,
   "metadata": {},
   "outputs": [],
   "source": [
    "class Vehiculo:\n",
    "    def __init__(self, color, tipo, cilindrada):\n",
    "        self.color = color\n",
    "        self.tipo = tipo\n",
    "        self.cilindrada = cilindrada"
   ]
  },
  {
   "attachments": {},
   "cell_type": "markdown",
   "metadata": {},
   "source": [
    "2) A la clase Vehiculo creada en el punto 1, agregar los siguientes métodos:<br>\n",
    "Acelerar<br>\n",
    "Frenar<br>\n",
    "Doblar<br>"
   ]
  },
  {
   "cell_type": "code",
   "execution_count": 16,
   "metadata": {},
   "outputs": [],
   "source": [
    "class Vehiculo:\n",
    "    def __init__(self, color, tipo, cilindrada):\n",
    "        self.color = color\n",
    "        self.tipo = tipo\n",
    "        self.cilindrada = cilindrada\n",
    "\n",
    "    def acelerar(self):\n",
    "        print(f\"Acelerando mi {self.tipo}\")\n",
    "\n",
    "    def frenar(self):\n",
    "        print(f\"Frenando mi {self.tipo}\")\n",
    "\n",
    "    def doblar(self, direccion):\n",
    "        self.direccion = direccion\n",
    "        print(f'Doblando a la {direccion} mi {self.tipo}')\n"
   ]
  },
  {
   "attachments": {},
   "cell_type": "markdown",
   "metadata": {},
   "source": [
    "3) Instanciar 3 objetos de la clase vehículo y ejecutar sus métodos, probar luego el resultado"
   ]
  },
  {
   "cell_type": "code",
   "execution_count": 17,
   "metadata": {},
   "outputs": [
    {
     "name": "stdout",
     "output_type": "stream",
     "text": [
      "Doblando a la derecha mi bicicleta\n",
      "Acelerando mi auto\n",
      "Frenando mi moto\n"
     ]
    }
   ],
   "source": [
    "bicicleta = Vehiculo('roja', 'bicicleta', 0)\n",
    "moto = Vehiculo('negra', 'moto', 125)\n",
    "auto = Vehiculo('Azul', 'auto', 1000)\n",
    "\n",
    "bicicleta.doblar('derecha')\n",
    "auto.acelerar()\n",
    "moto.frenar()"
   ]
  },
  {
   "attachments": {},
   "cell_type": "markdown",
   "metadata": {},
   "source": [
    "4) Agregar a la clase Vehiculo, un método que muestre su estado, es decir, a que velocidad se encuentra y su dirección. Y otro método que muestre color, tipo y cilindrada"
   ]
  },
  {
   "cell_type": "code",
   "execution_count": 24,
   "metadata": {},
   "outputs": [
    {
     "name": "stdout",
     "output_type": "stream",
     "text": [
      "Es un vehiculo tipo auto de color Azul de 1000 cm cubicos\n",
      "Mi velocidad y direccion actuales son 50 km/h en direccion norte\n"
     ]
    }
   ],
   "source": [
    "class Vehiculo:\n",
    "    def __init__(self, color, tipo, cilindrada, velocidad, direccion):\n",
    "        self.color = color\n",
    "        self.tipo = tipo\n",
    "        self.cilindrada = cilindrada\n",
    "        self.velocidad = velocidad\n",
    "        self.direccion = direccion\n",
    "\n",
    "    def estado_vehiculo(self):\n",
    "        print(f'Mi velocidad y direccion actuales son {self.velocidad} km/h en direccion {self.direccion}')\n",
    "        \n",
    "    def mostrar_atributos(self):\n",
    "        print(f'Es un vehiculo tipo {self.tipo} de color {self.color} de {self.cilindrada} cm cubicos')\n",
    "\n",
    "    def acelerar(self):\n",
    "        print(f\"Acelerando mi {self.tipo}\")\n",
    "\n",
    "    def frenar(self):\n",
    "        print(f\"Frenando mi {self.tipo}\")\n",
    "\n",
    "    def doblar(self, direccion):\n",
    "        self.direccion = direccion\n",
    "        print(f'Doblando a la {direccion} mi {self.tipo}')\n",
    "\n",
    "auto = Vehiculo('Azul', 'auto', 1000,50, 'norte')\n",
    "auto.mostrar_atributos()\n",
    "auto.estado_vehiculo()"
   ]
  },
  {
   "attachments": {},
   "cell_type": "markdown",
   "metadata": {},
   "source": [
    "5) Crear una clase que permita utilizar las funciones creadas en la práctica del módulo 7<br>\n",
    "Verificar Primo<br>\n",
    "Valor modal<br>\n",
    "Conversión grados<br>\n",
    "Factorial<br>"
   ]
  },
  {
   "cell_type": "code",
   "execution_count": 75,
   "metadata": {},
   "outputs": [],
   "source": [
    "class Herramientas:\n",
    "\n",
    "    def _init(self) -> None:\n",
    "        pass\n",
    "\n",
    "\n",
    "    def verifica_primo(self, num):\n",
    "        if num < 2:\n",
    "            return False\n",
    "        for i in range(2,num):\n",
    "            if num%i == 0:\n",
    "                return False\n",
    "        return True\n",
    "\n",
    "\n",
    "    def valor_modal(self, lista):\n",
    "        times = 0\n",
    "        which_one = 0\n",
    "        checked_items = []\n",
    "        for item in lista:\n",
    "            if item in checked_items:\n",
    "                continue\n",
    "            timesItem = lista.count(item)\n",
    "            if timesItem > times:\n",
    "                times = timesItem\n",
    "                which_one = item\n",
    "            checked_items.append(item)\n",
    "    \n",
    "        return print(f'El valor modal es {which_one} y se repite {times} veces.')\n",
    "\n",
    "\n",
    "    def convert_to_Centigrade(self, valor, entrada):\n",
    "        '''\n",
    "        Centigrades to kelvin or Farenheit\n",
    "        '''\n",
    "        if entrada == 'K':\n",
    "            return  valor - 273.15\n",
    "        elif entrada == 'F':\n",
    "            return (5*(valor-32))/9 \n",
    "\n",
    " \n",
    "    def convert_to_Farenheit(self, valor, entrada):\n",
    "        '''\n",
    "        Farenheit to kelvin or Centigrades\n",
    "        '''\n",
    "        if entrada == 'K':\n",
    "            return  self.convert_to_Farenheit(self.convert_to_Centigrade(valor, 'K'), 'C')\n",
    "        elif entrada == 'C':\n",
    "            return (9/5)*valor + 32\n",
    "        \n",
    "    def convert_to_Kelvin(self, valor, entrada):\n",
    "        '''\n",
    "        Centigrades to kelvin or Farenheit\n",
    "        '''\n",
    "        if entrada == 'F':\n",
    "            return self.convert_to_Kelvin(self.convert_to_Farenheitconvert_to_Centigrade(valor, 'F'), 'C')\n",
    "        elif entrada == 'C':\n",
    "            return valor + 273.15\n",
    "\n",
    "    def conversion_grados(self, valor, entrada, salida ):\n",
    "        '''\n",
    "        Converts temperature from C, K or F to other scales\n",
    "        '''\n",
    "        entrada = entrada.upper()\n",
    "        salida = salida.upper()\n",
    "        \n",
    "        if entrada == 'C':\n",
    "            if salida == 'F':\n",
    "                return self.convert_to_Farenheit(valor, entrada)\n",
    "            elif salida == 'K':\n",
    "                return self.convert_to_Kelvin(valor, entrada)\n",
    "            elif salida == 'C':\n",
    "                return valor\n",
    "\n",
    "        if entrada == 'F':\n",
    "            if salida == 'C':\n",
    "                return self.convert_to_Centigrade(valor, entrada)\n",
    "            elif salida == 'K':\n",
    "                return self.convert_to_Kelvin(valor, entrada)\n",
    "            elif salida == 'F':\n",
    "                return valor\n",
    "\n",
    "        if entrada == 'K':\n",
    "            if salida == 'C':\n",
    "                return self.convert_to_Centigrade(valor, entrada)\n",
    "            elif salida == 'F':\n",
    "                return self.convert_to_Farenheit(valor, entrada)\n",
    "            elif salida == 'K':\n",
    "                return  valor\n",
    "\n",
    "\n",
    "    def factorial(self, number):\n",
    "        '''\n",
    "        Calcula el factorial de un numero entero positivo\n",
    "        '''\n",
    "        if type(number) != int:\n",
    "            return 'El numero debe ser un entero'\n",
    "        if number < 0:\n",
    "            return 'El mumero debe ser un entero positivo'\n",
    "        if number >1:\n",
    "            number = number * self.factorial(number -1)\n",
    "        \n",
    "        return number"
   ]
  },
  {
   "attachments": {},
   "cell_type": "markdown",
   "metadata": {},
   "source": [
    "6) Probar las funciones incorporadas en la clase del punto 5"
   ]
  },
  {
   "cell_type": "code",
   "execution_count": 76,
   "metadata": {},
   "outputs": [],
   "source": [
    "h = Herramientas()"
   ]
  },
  {
   "cell_type": "code",
   "execution_count": 77,
   "metadata": {},
   "outputs": [
    {
     "name": "stdout",
     "output_type": "stream",
     "text": [
      "120\n"
     ]
    }
   ],
   "source": [
    "print(h.factorial(5))"
   ]
  },
  {
   "cell_type": "code",
   "execution_count": 78,
   "metadata": {},
   "outputs": [
    {
     "name": "stdout",
     "output_type": "stream",
     "text": [
      "Es 13 primo?: True\n"
     ]
    }
   ],
   "source": [
    "num = 13\n",
    "print(f\"Es {num} primo?: {h.verifica_primo(num)}\")"
   ]
  },
  {
   "cell_type": "code",
   "execution_count": 79,
   "metadata": {},
   "outputs": [
    {
     "name": "stdout",
     "output_type": "stream",
     "text": [
      "El valor modal es 8 y se repite 2 veces.\n"
     ]
    }
   ],
   "source": [
    "listado = [1,8,2,5,4,8,10,7]\n",
    "h.valor_modal(listado)"
   ]
  },
  {
   "cell_type": "code",
   "execution_count": 80,
   "metadata": {},
   "outputs": [
    {
     "name": "stdout",
     "output_type": "stream",
     "text": [
      "283.15\n"
     ]
    }
   ],
   "source": [
    "temp = h.conversion_grados(10, 'c', 'k')\n",
    "print(temp)"
   ]
  },
  {
   "attachments": {},
   "cell_type": "markdown",
   "metadata": {},
   "source": [
    "7) Es necesario que la clase creada en el punto 5 contenga una lista, sobre la cual se apliquen las funciones incorporadas"
   ]
  },
  {
   "cell_type": "code",
   "execution_count": 187,
   "metadata": {},
   "outputs": [],
   "source": [
    "class Herramientas_lista:\n",
    "\n",
    "    def __init__(self, lista_numeros):\n",
    "        self.lista_numeros = lista_numeros\n",
    "\n",
    "\n",
    "    def verifica_primo(self):\n",
    "        for num in self.lista_numeros:\n",
    "            if(self.__verifica_primo(num)):\n",
    "                print(f'El elemento {num} es primo.')\n",
    "            else:\n",
    "                print(f'El elemento {num} no es primo.')\n",
    "\n",
    "    def __verifica_primo(self, num):\n",
    "        if num < 2:\n",
    "            return False\n",
    "        for i in range(2,num):\n",
    "            if num%i == 0:\n",
    "                return False\n",
    "        return True\n",
    "\n",
    "    def valor_modal(self):\n",
    "        times = 0\n",
    "        which_one = 0\n",
    "        checked_items = []\n",
    "        for item in self.lista_numeros:\n",
    "            if item in checked_items:\n",
    "                continue\n",
    "            timesItem = self.lista_numeros.count(item)\n",
    "            if timesItem > times:\n",
    "                times = timesItem\n",
    "                which_one = item\n",
    "            checked_items.append(item)\n",
    "    \n",
    "        return print(f'El valor modal es {which_one} y se repite {times} veces.')\n",
    "\n",
    "\n",
    "    def __convert_to_Centigrade(self, valor, entrada):\n",
    "        '''\n",
    "        Centigrades to kelvin or Farenheit\n",
    "        '''\n",
    "        if entrada == 'K':\n",
    "            return  valor - 273.15\n",
    "        elif entrada == 'F':\n",
    "            return (5*(valor-32))/9 \n",
    "\n",
    " \n",
    "    def __convert_to_Farenheit(self, valor, entrada):\n",
    "        '''\n",
    "        Farenheit to kelvin or Centigrades\n",
    "        '''\n",
    "        if entrada == 'K':\n",
    "            return (9/5)*(self.__convert_to_Centigrade(valor, 'K')) + 32\n",
    "        elif entrada == 'C':\n",
    "            return (9/5)*valor + 32\n",
    "        \n",
    "    def __convert_to_Kelvin(self, valor, entrada):\n",
    "        '''\n",
    "        Centigrades to kelvin or Farenheit\n",
    "        '''\n",
    "        if entrada == 'F':\n",
    "            return self.__convert_to_Centigrade(valor, 'F') + 273.15\n",
    "        elif entrada == 'C':\n",
    "            return valor + 273.15\n",
    "        \n",
    "    \n",
    "    def conversion_grados(self, origen, destino):\n",
    "        for temp in self.lista_numeros:\n",
    "            tempC = self.__conversion_grados(temp, origen, destino)\n",
    "            print(f'{temp} grados º{origen.upper()} son {tempC} grados º{destino.upper()}')\n",
    "\n",
    "    def __conversion_grados(self, valor, entrada, salida ):\n",
    "        '''\n",
    "        Converts temperature from C, K or F to other scales\n",
    "        '''\n",
    "        entrada = entrada.upper()\n",
    "        salida = salida.upper()\n",
    "        \n",
    "        if entrada == 'C':\n",
    "            if salida == 'F':\n",
    "                return self.__convert_to_Farenheit(valor, entrada)\n",
    "            elif salida == 'K':\n",
    "                return self.__convert_to_Kelvin(valor, entrada)\n",
    "            elif salida == 'C':\n",
    "                return valor\n",
    "\n",
    "        if entrada == 'F':\n",
    "            if salida == 'C':\n",
    "                return self.__convert_to_Centigrade(valor, entrada)\n",
    "            elif salida == 'K':\n",
    "                return self.__convert_to_Kelvin(valor, entrada)\n",
    "            elif salida == 'F':\n",
    "                return valor\n",
    "\n",
    "        if entrada == 'K':\n",
    "            if salida == 'C':\n",
    "                return self.__convert_to_Centigrade(valor, entrada)\n",
    "            elif salida == 'F':\n",
    "                return self.__convert_to_Farenheit(valor, entrada)\n",
    "            elif salida == 'K':\n",
    "                return  valor\n",
    "\n",
    "\n",
    "    def factorial(self):\n",
    "        for num in self.lista_numeros:\n",
    "            print(f'El factorial de {num} es {self.__factorial(num)}')\n",
    "\n",
    "    def __factorial(self, number):\n",
    "        '''\n",
    "        Calcula el factorial de un numero entero positivo\n",
    "        '''\n",
    "        if type(number) != int:\n",
    "            return 'El numero debe ser un entero'\n",
    "        if number < 0:\n",
    "            return 'El mumero debe ser un entero positivo'\n",
    "        if number >1:\n",
    "            number = number * self.__factorial(number - 1)\n",
    "        \n",
    "        return number"
   ]
  },
  {
   "cell_type": "code",
   "execution_count": 192,
   "metadata": {},
   "outputs": [],
   "source": [
    "h = Herramientas_lista([1,1,2,5,8,8,9,11,15,16,16,16,18,20])"
   ]
  },
  {
   "cell_type": "code",
   "execution_count": 193,
   "metadata": {},
   "outputs": [
    {
     "name": "stdout",
     "output_type": "stream",
     "text": [
      "1 grados ºK son -457.86999999999995 grados ºF\n",
      "1 grados ºK son -457.86999999999995 grados ºF\n",
      "2 grados ºK son -456.07 grados ºF\n",
      "5 grados ºK son -450.66999999999996 grados ºF\n",
      "8 grados ºK son -445.27 grados ºF\n",
      "8 grados ºK son -445.27 grados ºF\n",
      "9 grados ºK son -443.46999999999997 grados ºF\n",
      "11 grados ºK son -439.86999999999995 grados ºF\n",
      "15 grados ºK son -432.66999999999996 grados ºF\n",
      "16 grados ºK son -430.86999999999995 grados ºF\n",
      "16 grados ºK son -430.86999999999995 grados ºF\n",
      "16 grados ºK son -430.86999999999995 grados ºF\n",
      "18 grados ºK son -427.27 grados ºF\n",
      "20 grados ºK son -423.66999999999996 grados ºF\n"
     ]
    }
   ],
   "source": [
    "h.conversion_grados('k','f')"
   ]
  },
  {
   "cell_type": "code",
   "execution_count": 139,
   "metadata": {},
   "outputs": [
    {
     "name": "stdout",
     "output_type": "stream",
     "text": [
      "El elemento 1 no es primo.\n",
      "El elemento 1 no es primo.\n",
      "El elemento 2 es primo.\n",
      "El elemento 5 es primo.\n",
      "El elemento 8 no es primo.\n",
      "El elemento 8 no es primo.\n",
      "El elemento 9 no es primo.\n",
      "El elemento 11 es primo.\n",
      "El elemento 15 no es primo.\n",
      "El elemento 16 no es primo.\n",
      "El elemento 16 no es primo.\n",
      "El elemento 16 no es primo.\n",
      "El elemento 18 no es primo.\n",
      "El elemento 20 no es primo.\n"
     ]
    }
   ],
   "source": [
    "h.verifica_primo()"
   ]
  },
  {
   "cell_type": "code",
   "execution_count": 140,
   "metadata": {},
   "outputs": [
    {
     "name": "stdout",
     "output_type": "stream",
     "text": [
      "El valor modal es 16 y se repite 3 veces.\n"
     ]
    }
   ],
   "source": [
    "h.valor_modal()"
   ]
  },
  {
   "cell_type": "code",
   "execution_count": 141,
   "metadata": {},
   "outputs": [
    {
     "name": "stdout",
     "output_type": "stream",
     "text": [
      "El factorial de 1 es 1\n",
      "El factorial de 1 es 1\n",
      "El factorial de 2 es 2\n",
      "El factorial de 5 es 120\n",
      "El factorial de 8 es 40320\n",
      "El factorial de 8 es 40320\n",
      "El factorial de 9 es 362880\n",
      "El factorial de 11 es 39916800\n",
      "El factorial de 15 es 1307674368000\n",
      "El factorial de 16 es 20922789888000\n",
      "El factorial de 16 es 20922789888000\n",
      "El factorial de 16 es 20922789888000\n",
      "El factorial de 18 es 6402373705728000\n",
      "El factorial de 20 es 2432902008176640000\n"
     ]
    }
   ],
   "source": [
    "h.factorial()"
   ]
  },
  {
   "attachments": {},
   "cell_type": "markdown",
   "metadata": {},
   "source": [
    "8) Crear un archivo .py aparte y ubicar allí la clase generada en el punto anterior. Luego realizar la importación del módulo y probar alguna de sus funciones"
   ]
  },
  {
   "cell_type": "code",
   "execution_count": 1,
   "metadata": {},
   "outputs": [],
   "source": [
    "from modulo_herramientas import *"
   ]
  },
  {
   "cell_type": "code",
   "execution_count": 2,
   "metadata": {},
   "outputs": [],
   "source": [
    "h2 = Herramientas_lista_mod([1,1,2,3,5,6,8,8])"
   ]
  },
  {
   "cell_type": "code",
   "execution_count": 3,
   "metadata": {},
   "outputs": [
    {
     "name": "stdout",
     "output_type": "stream",
     "text": [
      "El elemento 1 no es primo.\n",
      "El elemento 1 no es primo.\n",
      "El elemento 2 es primo.\n",
      "El elemento 3 es primo.\n",
      "El elemento 5 es primo.\n",
      "El elemento 6 no es primo.\n",
      "El elemento 8 no es primo.\n",
      "El elemento 8 no es primo.\n"
     ]
    }
   ],
   "source": [
    "h2.verifica_primo()"
   ]
  },
  {
   "cell_type": "code",
   "execution_count": 4,
   "metadata": {},
   "outputs": [
    {
     "name": "stdout",
     "output_type": "stream",
     "text": [
      "El factorial de 1 es 1\n",
      "El factorial de 1 es 1\n",
      "El factorial de 2 es 2\n",
      "El factorial de 3 es 6\n",
      "El factorial de 5 es 120\n",
      "El factorial de 6 es 720\n",
      "El factorial de 8 es 40320\n",
      "El factorial de 8 es 40320\n"
     ]
    }
   ],
   "source": [
    "h2.factorial()"
   ]
  },
  {
   "cell_type": "code",
   "execution_count": 5,
   "metadata": {},
   "outputs": [
    {
     "name": "stdout",
     "output_type": "stream",
     "text": [
      "1 grados ºK son -457.86999999999995 grados ºF\n",
      "1 grados ºK son -457.86999999999995 grados ºF\n",
      "2 grados ºK son -456.07 grados ºF\n",
      "3 grados ºK son -454.27 grados ºF\n",
      "5 grados ºK son -450.66999999999996 grados ºF\n",
      "6 grados ºK son -448.86999999999995 grados ºF\n",
      "8 grados ºK son -445.27 grados ºF\n",
      "8 grados ºK son -445.27 grados ºF\n"
     ]
    }
   ],
   "source": [
    "h2.conversion_grados('k', 'f')"
   ]
  },
  {
   "cell_type": "code",
   "execution_count": 7,
   "metadata": {},
   "outputs": [
    {
     "name": "stdout",
     "output_type": "stream",
     "text": [
      "El valor modal es 1 y se repite 2 veces.\n"
     ]
    }
   ],
   "source": [
    "h2.valor_modal()"
   ]
  }
 ],
 "metadata": {
  "interpreter": {
   "hash": "c85384e4cb51c8b72350f3a8712cc8351fdc3955e32a27f9b60c6242ab125f01"
  },
  "kernelspec": {
   "display_name": "Python 3 (ipykernel)",
   "language": "python",
   "name": "python3"
  },
  "language_info": {
   "codemirror_mode": {
    "name": "ipython",
    "version": 3
   },
   "file_extension": ".py",
   "mimetype": "text/x-python",
   "name": "python",
   "nbconvert_exporter": "python",
   "pygments_lexer": "ipython3",
   "version": "3.9.6"
  }
 },
 "nbformat": 4,
 "nbformat_minor": 4
}
