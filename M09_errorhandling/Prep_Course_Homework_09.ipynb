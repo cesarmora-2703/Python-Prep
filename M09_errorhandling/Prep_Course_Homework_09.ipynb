{
 "cells": [
  {
   "attachments": {},
   "cell_type": "markdown",
   "metadata": {},
   "source": [
    "## Manejo de errores"
   ]
  },
  {
   "attachments": {},
   "cell_type": "markdown",
   "metadata": {},
   "source": [
    "1) Con la clase creada en el módulo 7, tener en cuenta diferentes casos en que el código pudiera arrojar error. Por ejemplo, en la creación del objeto recibimos una lista de números enteros pero ¿qué pasa si se envía otro tipo de dato?"
   ]
  },
  {
   "cell_type": "code",
   "execution_count": 2,
   "metadata": {},
   "outputs": [],
   "source": [
    "import sys\n",
    "# Agrega la ruta al archivo 'herramientas.py' al sys.path\n",
    "#Esta no funciona, sobre el nombre del archivo\n",
    "#sys.path.append(r'/Volumes/develMac/henry/Python-Prep/M08_clasesyOOP/modulo_herramientas.py')\n",
    "#Para macos\n",
    "sys.path.append(r'/Volumes/develMac/henry/Python-Prep/M08_clasesyOOP/')\n",
    "#para wsl2\n",
    "#sys.path.append(r'/home/devel/Python-Prep/M08_clasesyOOP/modulo_herramientas.py')"
   ]
  },
  {
   "cell_type": "code",
   "execution_count": 3,
   "metadata": {},
   "outputs": [],
   "source": [
    "import modulo_herramientas as tools"
   ]
  },
  {
   "cell_type": "code",
   "execution_count": 4,
   "metadata": {},
   "outputs": [
    {
     "name": "stdout",
     "output_type": "stream",
     "text": [
      "Error, tipo de dato o valor incorrecto\n"
     ]
    }
   ],
   "source": [
    "h = tools.Herramientas_lista_mod('hello')"
   ]
  },
  {
   "attachments": {},
   "cell_type": "markdown",
   "metadata": {},
   "source": [
    "2) En la función que hace la conversión de grados, validar que los parámetros enviados sean los esperados, de no serlo, informar cuáles son los valores esperados."
   ]
  },
  {
   "cell_type": "code",
   "execution_count": 20,
   "metadata": {},
   "outputs": [
    {
     "name": "stdout",
     "output_type": "stream",
     "text": [
      "El factorial de 1 es 1\n",
      "El factorial de 2 es 2\n",
      "El factorial de 1 es 1\n",
      "El factorial de 3 es 6\n"
     ]
    }
   ],
   "source": [
    "import importlib  #se importa el módulo importlib, el cual proporciona funciones para recargar (reload) módulos previamente importados. \n",
    "importlib.reload(tools)  # la función reload() de importlib recargar el módulo herramientas (previamente importado y asignado a un alias h).\n",
    "datos = [1, 2, 1, 3]\n",
    "h2 = tools.Herramientas_lista_mod(datos)\n",
    "h2.factorial()"
   ]
  },
  {
   "cell_type": "code",
   "execution_count": 21,
   "metadata": {},
   "outputs": [
    {
     "name": "stdout",
     "output_type": "stream",
     "text": [
      "Se espera k, f, o c\n"
     ]
    }
   ],
   "source": [
    "h2.conversion_grados(3,6)"
   ]
  },
  {
   "cell_type": "code",
   "execution_count": 22,
   "metadata": {},
   "outputs": [
    {
     "name": "stdout",
     "output_type": "stream",
     "text": [
      "1 grados ºF son 255.92777777777775 grados ºK\n",
      "2 grados ºF son 256.4833333333333 grados ºK\n",
      "1 grados ºF son 255.92777777777775 grados ºK\n",
      "3 grados ºF son 257.0388888888889 grados ºK\n"
     ]
    }
   ],
   "source": [
    "h2.conversion_grados('f', 'k')"
   ]
  },
  {
   "cell_type": "code",
   "execution_count": 23,
   "metadata": {},
   "outputs": [
    {
     "name": "stdout",
     "output_type": "stream",
     "text": [
      "El valor modal es 1 y se repite 2 veces.\n",
      "1 2\n",
      "[1, 2]\n"
     ]
    }
   ],
   "source": [
    "moda, veces = h2.valor_modal()\n",
    "print(moda,veces)\n",
    "moda = [moda]\n",
    "moda.append(veces)\n",
    "resultado = [1, 2]\n",
    "print(moda)"
   ]
  },
  {
   "attachments": {},
   "cell_type": "markdown",
   "metadata": {},
   "source": [
    "3) Importar el modulo \"unittest\" y crear los siguientes casos de pruebas sobre la clase utilizada en el punto 2<br>\n",
    "Creacion del objeto incorrecta<br>\n",
    "Creacion correcta del objeto<br>\n",
    "Metodo valor_modal()<br>\n",
    "\n",
    "Se puede usar \"raise ValueError()\" en la creación de la clase para verificar el error. Investigar sobre esta funcionalidad."
   ]
  },
  {
   "cell_type": "code",
   "execution_count": 9,
   "metadata": {},
   "outputs": [],
   "source": [
    "# Si, se incorpora en el metodo __init__, asi como el manejo de excepciones."
   ]
  },
  {
   "cell_type": "code",
   "execution_count": 1,
   "metadata": {},
   "outputs": [],
   "source": [
    "# Restart kernel first\n",
    "import unittest\n",
    "import sys\n",
    "sys.path.append(r'/Volumes/develMac/henry/Python-Prep/M08_clasesyOOP/')\n",
    "import modulo_herramientas as tools"
   ]
  },
  {
   "cell_type": "code",
   "execution_count": 3,
   "metadata": {},
   "outputs": [],
   "source": [
    "class TestHerramientas(unittest.TestCase):\n",
    "    \n",
    "    def test_creacion_incorreta_objeto(self):\n",
    "        \"\"\"\n",
    "        Método de prueba para verificar el comportamiento al crear un objeto Herramientas con un parámetro inválido.\n",
    "        \"\"\"\n",
    "        datoPrueba = 'hola'\n",
    "        # Se debe lanzar la excepcion\n",
    "        # Pasar dato de prueba a instancia de tools\n",
    "        self.assertRaises(ValueError, tools.Herramientas_lista_mod, datoPrueba)\n",
    "\n",
    "    def test_creacion_correta_objeto(self):\n",
    "        \"\"\"\n",
    "        Método de prueba para verificar el comportamiento al crear un objeto Herramientas con una lista válida como parámetro.\n",
    "        \"\"\"\n",
    "        datoPrueba = [3,7,11,29,33,64]\n",
    "        test = tools.Herramientas_lista_mod(datoPrueba)\n",
    "        # Se debe lanzar la excepcion\n",
    "        self.assertEqual(test.lista_numeros, datoPrueba) # lista_numeros es el parametro sobre el que se prueba\n",
    "\n",
    "    def test_valor_modal(self):\n",
    "        \"\"\"\n",
    "        Método de prueba para verificar el comportamiento del método valor_modal de la clase Herramientas.\n",
    "        \"\"\"\n",
    "        lis = [1, 2, 1, 3]\n",
    "        h1 = tools.Herramientas_lista_mod(lis)\n",
    "        moda, veces = h1.valor_modal()\n",
    "        moda = [moda]\n",
    "        moda.append(veces)\n",
    "        resultado = [1, 2]\n",
    "        self.assertEqual(moda, resultado)\n",
    "\n",
    "    def test_verifica_primos1(self):\n",
    "        lis = [2,3,8,10,13]\n",
    "        h1 = tools.Herramientas_lista_mod(lis)\n",
    "        primos = h1.verifica_primo()\n",
    "        print(primos)\n",
    "        primos_esperado = [True, True, False, False, True]\n",
    "        self.assertEqual(primos, primos_esperado)\n",
    "\n",
    "    def test_verifica_conversion_grados(self):\n",
    "        lis = [2,3,8,10,13]\n",
    "        testGrados = tools.Herramientas_lista_mod(lis)\n",
    "        grados = testGrados.conversion_grados('c','f')\n",
    "        grados_esperado = [35.6, 37.4, 46.4, 50.0, 55.4]\n",
    "        print(grados, grados_esperado)\n",
    "        self.assertEqual(grados, grados_esperado)\n",
    "\n",
    "    def test_verifica_factorial(self):\n",
    "        lis = [2,3,8,10,13]\n",
    "        h1 = tools.Herramientas_lista_mod(lis)\n",
    "        factorial = h1.factorial()\n",
    "        factorial_esperado = [2, 6, 40320, 3628800, 6227020800]\n",
    "        self.assertEqual(factorial, factorial_esperado)"
   ]
  },
  {
   "cell_type": "code",
   "execution_count": 3,
   "metadata": {},
   "outputs": [
    {
     "name": "stderr",
     "output_type": "stream",
     "text": [
      "test_creacion_correta_objeto (__main__.TestHerramientas)\n",
      "Método de prueba para verificar el comportamiento al crear un objeto Herramientas con una lista válida como parámetro. ... ok\n",
      "test_creacion_incorreta_objeto (__main__.TestHerramientas)\n",
      "Método de prueba para verificar el comportamiento al crear un objeto Herramientas con un parámetro inválido. ... ok\n",
      "test_valor_modal (__main__.TestHerramientas)\n",
      "Método de prueba para verificar el comportamiento del método valor_modal de la clase Herramientas. ... ok\n",
      "test_verifica_primos1 (__main__.TestHerramientas) ... "
     ]
    },
    {
     "name": "stdout",
     "output_type": "stream",
     "text": [
      "El valor modal es 1 y se repite 2 veces.\n",
      "El elemento 2 es primo.\n",
      "El elemento 3 es primo.\n",
      "El elemento 8 no es primo.\n",
      "El elemento 10 no es primo.\n",
      "El elemento 13 es primo.\n",
      "[True, True, False, False, True]\n"
     ]
    },
    {
     "name": "stderr",
     "output_type": "stream",
     "text": [
      "ok\n",
      "\n",
      "----------------------------------------------------------------------\n",
      "Ran 4 tests in 0.005s\n",
      "\n",
      "OK\n"
     ]
    },
    {
     "data": {
      "text/plain": [
       "<unittest.main.TestProgram at 0x107c83c70>"
      ]
     },
     "execution_count": 3,
     "metadata": {},
     "output_type": "execute_result"
    }
   ],
   "source": [
    "unittest.main(argv=[''], verbosity=3, exit=False)\n"
   ]
  },
  {
   "attachments": {},
   "cell_type": "markdown",
   "metadata": {},
   "source": [
    "4) Probar una creación incorrecta y visualizar la salida del \"raise\""
   ]
  },
  {
   "cell_type": "code",
   "execution_count": 4,
   "metadata": {},
   "outputs": [
    {
     "ename": "ValueError",
     "evalue": "Se ha creado una lista vacía. Se esperaba una lista de núemeros enteros",
     "output_type": "error",
     "traceback": [
      "\u001b[0;31m---------------------------------------------------------------------------\u001b[0m",
      "\u001b[0;31mValueError\u001b[0m                                Traceback (most recent call last)",
      "Cell \u001b[0;32mIn[4], line 1\u001b[0m\n\u001b[0;32m----> 1\u001b[0m test2 \u001b[39m=\u001b[39m tools\u001b[39m.\u001b[39;49mHerramientas_lista_mod(\u001b[39m'\u001b[39;49m\u001b[39mno es lista\u001b[39;49m\u001b[39m'\u001b[39;49m)\n",
      "File \u001b[0;32m/Volumes/develMac/henry/Python-Prep/M08_clasesyOOP/modulo_herramientas.py:7\u001b[0m, in \u001b[0;36mHerramientas_lista_mod.__init__\u001b[0;34m(self, lista)\u001b[0m\n\u001b[1;32m      5\u001b[0m \u001b[39mif\u001b[39;00m (\u001b[39mtype\u001b[39m(lista) \u001b[39m!=\u001b[39m \u001b[39mlist\u001b[39m):\n\u001b[1;32m      6\u001b[0m     \u001b[39mself\u001b[39m\u001b[39m.\u001b[39mlista_numeros \u001b[39m=\u001b[39m []\n\u001b[0;32m----> 7\u001b[0m     \u001b[39mraise\u001b[39;00m \u001b[39mValueError\u001b[39;00m(\u001b[39m'\u001b[39m\u001b[39mSe ha creado una lista vacía. Se esperaba una lista de núemeros enteros\u001b[39m\u001b[39m'\u001b[39m)  \n\u001b[1;32m      8\u001b[0m \u001b[39melif\u001b[39;00m lista \u001b[39m==\u001b[39m \u001b[39mNone\u001b[39;00m:\n\u001b[1;32m      9\u001b[0m     \u001b[39mraise\u001b[39;00m \u001b[39mValueError\u001b[39;00m(\u001b[39m\"\u001b[39m\u001b[39mNo se suministro una lista\u001b[39m\u001b[39m\"\u001b[39m)\n",
      "\u001b[0;31mValueError\u001b[0m: Se ha creado una lista vacía. Se esperaba una lista de núemeros enteros"
     ]
    }
   ],
   "source": [
    "test2 = tools.Herramientas_lista_mod('no es lista')"
   ]
  },
  {
   "attachments": {},
   "cell_type": "markdown",
   "metadata": {},
   "source": [
    "6) Agregar casos de pruebas para el método verifica_primos() realizando el cambio en la clase, para que devuelva una lista de True o False en función de que el elemento en la posisicón sea o no primo"
   ]
  },
  {
   "cell_type": "code",
   "execution_count": 5,
   "metadata": {},
   "outputs": [],
   "source": [
    "\"\"\" \n",
    "# Insertada en la clase principal\n",
    "def test_verifica_primos1(self):\n",
    "    lis = [2,3,8,10,13]\n",
    "    h1 = h.Herramientas(lis)\n",
    "    primos = h1.verifica_primo()\n",
    "    primos_esperado = [True, True, False, False, True]\n",
    "    self.assertEqual(primos, primos_esperado) \"\"\""
   ]
  },
  {
   "cell_type": "code",
   "execution_count": 4,
   "metadata": {},
   "outputs": [
    {
     "name": "stderr",
     "output_type": "stream",
     "text": [
      "test_creacion_correta_objeto (__main__.TestHerramientas)\n",
      "Método de prueba para verificar el comportamiento al crear un objeto Herramientas con una lista válida como parámetro. ... ok\n",
      "test_creacion_incorreta_objeto (__main__.TestHerramientas)\n",
      "Método de prueba para verificar el comportamiento al crear un objeto Herramientas con un parámetro inválido. ... ok\n",
      "test_valor_modal (__main__.TestHerramientas)\n",
      "Método de prueba para verificar el comportamiento del método valor_modal de la clase Herramientas. ... ok\n",
      "test_verifica_primos1 (__main__.TestHerramientas) ... "
     ]
    },
    {
     "name": "stdout",
     "output_type": "stream",
     "text": [
      "El valor modal es 1 y se repite 2 veces.\n",
      "El elemento 2 es primo.\n",
      "El elemento 3 es primo.\n",
      "El elemento 8 no es primo.\n",
      "El elemento 10 no es primo.\n",
      "El elemento 13 es primo.\n",
      "[True, True, False, False, True]\n"
     ]
    },
    {
     "name": "stderr",
     "output_type": "stream",
     "text": [
      "ok\n",
      "\n",
      "----------------------------------------------------------------------\n",
      "Ran 4 tests in 0.005s\n",
      "\n",
      "OK\n"
     ]
    },
    {
     "data": {
      "text/plain": [
       "<unittest.main.TestProgram at 0x107c83b50>"
      ]
     },
     "execution_count": 4,
     "metadata": {},
     "output_type": "execute_result"
    }
   ],
   "source": [
    "unittest.main(argv=[''], verbosity=3, exit=False)"
   ]
  },
  {
   "attachments": {},
   "cell_type": "markdown",
   "metadata": {},
   "source": [
    "7) Agregar casos de pruebas para el método conversion_grados()"
   ]
  },
  {
   "cell_type": "code",
   "execution_count": null,
   "metadata": {},
   "outputs": [],
   "source": [
    "\"\"\" \n",
    "# Insertada en la clase principal\n",
    "    def test_verifica_conversion_grados(self):\n",
    "    \n",
    "        lis = [2,3,8,10,13]\n",
    "        testGrados = h.Herramientas(lis)\n",
    "        grados = testGrados.conversion_grados('c','f')\n",
    "        grados_esperado = [35.6, 37.4, 46.4, 50.0, 55.4]\n",
    "        self.assertEqual(grados, grados_esperado) \"\"\""
   ]
  },
  {
   "cell_type": "code",
   "execution_count": 3,
   "metadata": {},
   "outputs": [
    {
     "name": "stderr",
     "output_type": "stream",
     "text": [
      "test_creacion_correta_objeto (__main__.TestHerramientas)\n",
      "Método de prueba para verificar el comportamiento al crear un objeto Herramientas con una lista válida como parámetro. ... ok\n",
      "test_creacion_incorreta_objeto (__main__.TestHerramientas)\n",
      "Método de prueba para verificar el comportamiento al crear un objeto Herramientas con un parámetro inválido. ... ok\n",
      "test_valor_modal (__main__.TestHerramientas)\n",
      "Método de prueba para verificar el comportamiento del método valor_modal de la clase Herramientas. ... ok\n",
      "test_verifica_conversion_grados (__main__.TestHerramientas) ... ok\n",
      "test_verifica_primos1 (__main__.TestHerramientas) ... "
     ]
    },
    {
     "name": "stdout",
     "output_type": "stream",
     "text": [
      "El valor modal es 1 y se repite 2 veces.\n",
      "2 grados ºC son 35.6 grados ºF\n",
      "3 grados ºC son 37.4 grados ºF\n",
      "8 grados ºC son 46.4 grados ºF\n",
      "10 grados ºC son 50.0 grados ºF\n",
      "13 grados ºC son 55.4 grados ºF\n",
      "[35.6, 37.4, 46.4, 50.0, 55.4] [35.6, 37.4, 46.4, 50.0, 55.4]\n",
      "El elemento 2 es primo.\n",
      "El elemento 3 es primo.\n",
      "El elemento 8 no es primo.\n",
      "El elemento 10 no es primo.\n",
      "El elemento 13 es primo.\n",
      "[True, True, False, False, True]\n"
     ]
    },
    {
     "name": "stderr",
     "output_type": "stream",
     "text": [
      "ok\n",
      "\n",
      "----------------------------------------------------------------------\n",
      "Ran 5 tests in 0.006s\n",
      "\n",
      "OK\n"
     ]
    },
    {
     "data": {
      "text/plain": [
       "<unittest.main.TestProgram at 0x109009100>"
      ]
     },
     "execution_count": 3,
     "metadata": {},
     "output_type": "execute_result"
    }
   ],
   "source": [
    "# Retart kernel first, and reload path and class\n",
    "unittest.main(argv=[''], verbosity=2, exit=False)"
   ]
  },
  {
   "attachments": {},
   "cell_type": "markdown",
   "metadata": {},
   "source": [
    "8) Agregar casos de pruebas para el método factorial()"
   ]
  },
  {
   "cell_type": "code",
   "execution_count": null,
   "metadata": {},
   "outputs": [],
   "source": [
    "\"\"\" class ProbandoMiClase4(unittest.TestCase):\n",
    "#  Insertado en la clase mas arriba\n",
    "    def test_verifica_factorial(self):\n",
    "        lis = [2,3,8,10,13]\n",
    "        h1 = tools.Herramientas_lista_mod(lis)\n",
    "        factorial = h1.factorial()\n",
    "        factorial_esperado = [2, 6, 40320, 3628800, 6227020800]\n",
    "        self.assertEqual(factorial, factorial_esperado) \"\"\""
   ]
  },
  {
   "cell_type": "code",
   "execution_count": 4,
   "metadata": {},
   "outputs": [
    {
     "name": "stderr",
     "output_type": "stream",
     "text": [
      "test_creacion_correta_objeto (__main__.TestHerramientas)\n",
      "Método de prueba para verificar el comportamiento al crear un objeto Herramientas con una lista válida como parámetro. ... ok\n",
      "test_creacion_incorreta_objeto (__main__.TestHerramientas)\n",
      "Método de prueba para verificar el comportamiento al crear un objeto Herramientas con un parámetro inválido. ... ok\n",
      "test_valor_modal (__main__.TestHerramientas)\n",
      "Método de prueba para verificar el comportamiento del método valor_modal de la clase Herramientas. ... ok\n",
      "test_verifica_conversion_grados (__main__.TestHerramientas) ... ok\n",
      "test_verifica_factorial (__main__.TestHerramientas) ... ok\n",
      "test_verifica_primos1 (__main__.TestHerramientas) ... "
     ]
    },
    {
     "name": "stdout",
     "output_type": "stream",
     "text": [
      "El valor modal es 1 y se repite 2 veces.\n",
      "2 grados ºC son 35.6 grados ºF\n",
      "3 grados ºC son 37.4 grados ºF\n",
      "8 grados ºC son 46.4 grados ºF\n",
      "10 grados ºC son 50.0 grados ºF\n",
      "13 grados ºC son 55.4 grados ºF\n",
      "[35.6, 37.4, 46.4, 50.0, 55.4] [35.6, 37.4, 46.4, 50.0, 55.4]\n",
      "El factorial de 2 es 2\n",
      "El factorial de 3 es 6\n",
      "El factorial de 8 es 40320\n",
      "El factorial de 10 es 3628800\n",
      "El factorial de 13 es 6227020800\n",
      "El elemento 2 es primo.\n",
      "El elemento 3 es primo.\n",
      "El elemento 8 no es primo.\n",
      "El elemento 10 no es primo.\n",
      "El elemento 13 es primo.\n",
      "[True, True, False, False, True]\n"
     ]
    },
    {
     "name": "stderr",
     "output_type": "stream",
     "text": [
      "ok\n",
      "\n",
      "----------------------------------------------------------------------\n",
      "Ran 6 tests in 0.005s\n",
      "\n",
      "OK\n"
     ]
    },
    {
     "data": {
      "text/plain": [
       "<unittest.main.TestProgram at 0x107a8c9d0>"
      ]
     },
     "execution_count": 4,
     "metadata": {},
     "output_type": "execute_result"
    }
   ],
   "source": [
    "unittest.main(argv=[''], verbosity=2, exit=False)"
   ]
  }
 ],
 "metadata": {
  "interpreter": {
   "hash": "c85384e4cb51c8b72350f3a8712cc8351fdc3955e32a27f9b60c6242ab125f01"
  },
  "kernelspec": {
   "display_name": "Python 3 (ipykernel)",
   "language": "python",
   "name": "python3"
  },
  "language_info": {
   "codemirror_mode": {
    "name": "ipython",
    "version": 3
   },
   "file_extension": ".py",
   "mimetype": "text/x-python",
   "name": "python",
   "nbconvert_exporter": "python",
   "pygments_lexer": "ipython3",
   "version": "3.9.6"
  }
 },
 "nbformat": 4,
 "nbformat_minor": 4
}
